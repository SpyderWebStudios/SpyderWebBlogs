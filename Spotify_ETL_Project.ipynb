{
  "nbformat": 4,
  "nbformat_minor": 0,
  "metadata": {
    "colab": {
      "name": "Spotify-ETL-Project.ipynb",
      "provenance": [],
      "collapsed_sections": [],
      "authorship_tag": "ABX9TyOevxT9vLIiXzvTQF4A3VTA",
      "include_colab_link": true
    },
    "kernelspec": {
      "name": "python3",
      "display_name": "Python 3"
    }
  },
  "cells": [
    {
      "cell_type": "markdown",
      "metadata": {
        "id": "view-in-github",
        "colab_type": "text"
      },
      "source": [
        "<a href=\"https://colab.research.google.com/github/SpyderWebStudios/SpyderWebBlogs/blob/main/Spotify_ETL_Project.ipynb\" target=\"_parent\"><img src=\"https://colab.research.google.com/assets/colab-badge.svg\" alt=\"Open In Colab\"/></a>"
      ]
    },
    {
      "cell_type": "markdown",
      "metadata": {
        "id": "CXtPMgJhvMf0"
      },
      "source": [
        "# Spotify APIs: Extract - Transform - Load\n",
        "\n",
        "## This program fetches all the songs I listened to on Spotify yesterday and stores them in a local database."
      ]
    },
    {
      "cell_type": "code",
      "metadata": {
        "colab": {
          "base_uri": "https://localhost:8080/",
          "height": 755
        },
        "id": "Vu8KcC5Sf7dH",
        "cellView": "code",
        "outputId": "2c267f92-3f2d-4a83-b8a1-45916370528b"
      },
      "source": [
        "import sqlalchemy\n",
        "from sqlalchemy.orm import sessionmaker\n",
        "import pandas as pd\n",
        "import tensorflow as tf\n",
        "import numpy as ny\n",
        "import requests\n",
        "import json\n",
        "import sqlite3\n",
        "from datetime import datetime\n",
        "import datetime\n",
        "from pandas.io.json import json_normalize\n",
        "\n",
        "DATABASE_LOCATION = \"sqlite:///my_played_tracks.sqlite\"\n",
        "USER_ID = \"s3mvgio1lbwbi82fndkykla9c\"\n",
        "TOKEN = \"BQCKJ7Zj3CVqzSRx9RD4rMQTMtrkvFoqUHkOlSgjNyoTizHyywseurUvYuwGNept-nRgIpPAbnFjnSRB3nrevSf4OO7mtPMSgE78hJj_F-xwwH3ofhpSGT2tqsC7PI7ihj_IDrtuHgzMKamI30_Pr-gUKOkn4x5-qfUKwzSmKl-_Yw\"\n",
        "# Generate a token at: https://api.spotify.com/v1/me/player/recently-played\n",
        "\n",
        "# Validate the data\n",
        "\n",
        "\n",
        "def check_if_valid_data(df: pd.DataFrame) -> bool:\n",
        "    # Check if dataframe is empty\n",
        "    if df.empty:\n",
        "        print(\"This is strange.. No songs were downloaded. Finishing execution..\")\n",
        "        return False\n",
        "\n",
        "    # Primary Key Check - WE DON'T WANT DUPLICATES\n",
        "    if pd.Series(df[\"played_at\"]).is_unique:\n",
        "        pass\n",
        "        # because you can't listen at two songs at the same time\n",
        "    else:\n",
        "        raise Exception(\"Primary Key Check Failed!!\")\n",
        "\n",
        "    # Check for null values\n",
        "    if df.isnull().values.any():\n",
        "        raise Exception(\"Null values found\")\n",
        "\n",
        "    # Check that all timestamps are from yesterday's date\n",
        "    yesterday = datetime.datetime.now() - datetime.timedelta(days=1)\n",
        "    yesterday = yesterday.replace(hour=0, minute=0, second=0, microsecond=0)\n",
        "\n",
        "    timestamps = df[\"timestamp\"].tolist()\n",
        "    for timestamp in timestamps:\n",
        "        if datetime.datetime.strptime(timestamp, \"%Y-%m-%d\") != yesterday:\n",
        "            raise Exception(\n",
        "                \"At least one of the returned songs does not come from within the last 24hrs\")\n",
        "    return True\n",
        "\n",
        "\n",
        "if __name__ == \"__main__\":\n",
        "\n",
        "    headers = {\n",
        "        \"Accept\": \"application/json\",\n",
        "        \"Content-Type\": \"application/json\",\n",
        "        \"Authorization\":  \"Bearer {token}\".format(token=TOKEN)\n",
        "    }\n",
        "\n",
        "    today = datetime.datetime.now()\n",
        "    yesterday = today - datetime.timedelta(days=1)\n",
        "    yesterday_unix_timestamp = int(yesterday.timestamp()) * 1000\n",
        "\n",
        "    r = requests.get(\"https://api.spotify.com/v1/me/player/recently-played?after{time}\".format(\n",
        "        time=yesterday_unix_timestamp), headers=headers)\n",
        "\n",
        "    data = r.json()\n",
        "\n",
        "    song_names = []\n",
        "    # featured_artists_names = []\n",
        "    album_names = []\n",
        "    artist_names = []\n",
        "    song_popularity = []\n",
        "    song_explicit = []\n",
        "    song_duration_ms = []\n",
        "    played_at_list = []\n",
        "    timestamps = []\n",
        "\n",
        "    # getting songs from the items. The going down the data heirarchy to get certain fields (e.g items > track > name or track > album > artists)\n",
        "\n",
        "    for song in data[\"items\"]:\n",
        "        song_names.append(song[\"track\"][\"name\"])\n",
        "        artist_names.append(song[\"track\"][\"album\"][\"artists\"][0][\"name\"])\n",
        "        # featured_artists_names.append(song[\"track\"][\"artists\"][-1][\"name\"])\n",
        "        song_popularity.append(song[\"track\"][\"popularity\"])\n",
        "        song_explicit.append(song[\"track\"][\"explicit\"])\n",
        "        # TODO: convert the duration from miniseconds to Min:Sec time\n",
        "        song_duration_ms.append(song[\"track\"][\"duration_ms\"])\n",
        "\n",
        "        played_at_list.append(song[\"played_at\"])\n",
        "        timestamps.append(song[\"played_at\"][0: 10])\n",
        "\n",
        "    song_dict = {\n",
        "        \"song_name\": song_names,\n",
        "        \"artist_name\": artist_names,\n",
        "        \"song_popularity\": song_popularity,\n",
        "        \"song_explicit\": song_explicit,\n",
        "        \"song_duration_ms\": song_duration_ms,\n",
        "        \"played_at\": played_at_list,\n",
        "        \"timestamp\": timestamps\n",
        "    }\n",
        "\n",
        "    song_df = pd.DataFrame(song_dict, columns=[\n",
        "        \"song_name\", \"artist_name\", \"song_popularity\", \"song_explicit\", \"song_duration_ms\", \"played_at\", \"timestamp\"])\n",
        "\n",
        "    print(song_df)\n",
        "    # Validate\n",
        "    if check_if_valid_data(song_df):\n",
        "\n",
        "        print(\"Data is valid! Proceed to the Load stage\")\n"
      ],
      "execution_count": null,
      "outputs": [
        {
          "output_type": "stream",
          "name": "stdout",
          "text": [
            "                                  song_name  ...   timestamp\n",
            "0                                   Casting  ...  2021-09-15\n",
            "1   Fólk fær andlit (Arr. Jarkko Riihimäki)  ...  2021-09-15\n",
            "2              The Beach - from I Never Cry  ...  2021-09-15\n",
            "3                            Bathroom Dance  ...  2021-09-15\n",
            "4                     Hymn - Mvmt 2: Lament  ...  2021-09-15\n",
            "5                        Marche - Agincourt  ...  2021-09-15\n",
            "6                                  Antiphon  ...  2021-09-15\n",
            "7          Ballade in B-flat Minor: Descent  ...  2021-09-15\n",
            "8           Song of Hal: Strings in B Minor  ...  2021-09-15\n",
            "9                                  Antiphon  ...  2021-09-15\n",
            "10                                 Antiphon  ...  2021-09-15\n",
            "11                                 Antiphon  ...  2021-09-15\n",
            "12                                 Antiphon  ...  2021-09-15\n",
            "13                                 Antiphon  ...  2021-09-15\n",
            "14                                 Antiphon  ...  2021-09-15\n",
            "15                                 Antiphon  ...  2021-09-15\n",
            "16         Song of Hal: Strings in C# Minor  ...  2021-09-15\n",
            "17          Song of Hal: Strings in B Minor  ...  2021-09-15\n",
            "18          Ballade in C# Minor: Coronation  ...  2021-09-15\n",
            "19          Ballade in C# Minor: Coronation  ...  2021-09-15\n",
            "\n",
            "[20 rows x 7 columns]\n"
          ]
        },
        {
          "output_type": "error",
          "ename": "Exception",
          "evalue": "ignored",
          "traceback": [
            "\u001b[0;31m---------------------------------------------------------------------------\u001b[0m",
            "\u001b[0;31mException\u001b[0m                                 Traceback (most recent call last)",
            "\u001b[0;32m<ipython-input-1-a1fd27deb344>\u001b[0m in \u001b[0;36m<module>\u001b[0;34m()\u001b[0m\n\u001b[1;32m    104\u001b[0m     \u001b[0mprint\u001b[0m\u001b[0;34m(\u001b[0m\u001b[0msong_df\u001b[0m\u001b[0;34m)\u001b[0m\u001b[0;34m\u001b[0m\u001b[0;34m\u001b[0m\u001b[0m\n\u001b[1;32m    105\u001b[0m     \u001b[0;31m# Validate\u001b[0m\u001b[0;34m\u001b[0m\u001b[0;34m\u001b[0m\u001b[0;34m\u001b[0m\u001b[0m\n\u001b[0;32m--> 106\u001b[0;31m     \u001b[0;32mif\u001b[0m \u001b[0mcheck_if_valid_data\u001b[0m\u001b[0;34m(\u001b[0m\u001b[0msong_df\u001b[0m\u001b[0;34m)\u001b[0m\u001b[0;34m:\u001b[0m\u001b[0;34m\u001b[0m\u001b[0;34m\u001b[0m\u001b[0m\n\u001b[0m\u001b[1;32m    107\u001b[0m \u001b[0;34m\u001b[0m\u001b[0m\n\u001b[1;32m    108\u001b[0m         \u001b[0mprint\u001b[0m\u001b[0;34m(\u001b[0m\u001b[0;34m\"Data is valid! Proceed to the Load stage\"\u001b[0m\u001b[0;34m)\u001b[0m\u001b[0;34m\u001b[0m\u001b[0;34m\u001b[0m\u001b[0m\n",
            "\u001b[0;32m<ipython-input-1-a1fd27deb344>\u001b[0m in \u001b[0;36mcheck_if_valid_data\u001b[0;34m(df)\u001b[0m\n\u001b[1;32m     44\u001b[0m         \u001b[0;32mif\u001b[0m \u001b[0mdatetime\u001b[0m\u001b[0;34m.\u001b[0m\u001b[0mdatetime\u001b[0m\u001b[0;34m.\u001b[0m\u001b[0mstrptime\u001b[0m\u001b[0;34m(\u001b[0m\u001b[0mtimestamp\u001b[0m\u001b[0;34m,\u001b[0m \u001b[0;34m\"%Y-%m-%d\"\u001b[0m\u001b[0;34m)\u001b[0m \u001b[0;34m!=\u001b[0m \u001b[0myesterday\u001b[0m\u001b[0;34m:\u001b[0m\u001b[0;34m\u001b[0m\u001b[0;34m\u001b[0m\u001b[0m\n\u001b[1;32m     45\u001b[0m             raise Exception(\n\u001b[0;32m---> 46\u001b[0;31m                 \"At least one of the returned songs does not come from within the last 24hrs\")\n\u001b[0m\u001b[1;32m     47\u001b[0m     \u001b[0;32mreturn\u001b[0m \u001b[0;32mTrue\u001b[0m\u001b[0;34m\u001b[0m\u001b[0;34m\u001b[0m\u001b[0m\n\u001b[1;32m     48\u001b[0m \u001b[0;34m\u001b[0m\u001b[0m\n",
            "\u001b[0;31mException\u001b[0m: At least one of the returned songs does not come from within the last 24hrs"
          ]
        }
      ]
    }
  ]
}